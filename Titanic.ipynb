{
 "cells": [
  {
   "cell_type": "code",
   "execution_count": 1,
   "id": "4a8c6950",
   "metadata": {},
   "outputs": [],
   "source": [
    "import numpy as np\n",
    "import matplotlib.pyplot as plt\n",
    "import seaborn as sns\n",
    "import pandas as pd"
   ]
  },
  {
   "cell_type": "code",
   "execution_count": 2,
   "id": "89c461d1",
   "metadata": {},
   "outputs": [],
   "source": [
    "data_train = pd.read_csv('train.csv')"
   ]
  },
  {
   "cell_type": "markdown",
   "id": "1ba1ee0e",
   "metadata": {},
   "source": [
    "## Exploring the data"
   ]
  },
  {
   "cell_type": "code",
   "execution_count": 3,
   "id": "be3f4bbe",
   "metadata": {},
   "outputs": [
    {
     "data": {
      "text/html": [
       "<div>\n",
       "<style scoped>\n",
       "    .dataframe tbody tr th:only-of-type {\n",
       "        vertical-align: middle;\n",
       "    }\n",
       "\n",
       "    .dataframe tbody tr th {\n",
       "        vertical-align: top;\n",
       "    }\n",
       "\n",
       "    .dataframe thead th {\n",
       "        text-align: right;\n",
       "    }\n",
       "</style>\n",
       "<table border=\"1\" class=\"dataframe\">\n",
       "  <thead>\n",
       "    <tr style=\"text-align: right;\">\n",
       "      <th></th>\n",
       "      <th>PassengerId</th>\n",
       "      <th>Survived</th>\n",
       "      <th>Pclass</th>\n",
       "      <th>Name</th>\n",
       "      <th>Sex</th>\n",
       "      <th>Age</th>\n",
       "      <th>SibSp</th>\n",
       "      <th>Parch</th>\n",
       "      <th>Ticket</th>\n",
       "      <th>Fare</th>\n",
       "      <th>Cabin</th>\n",
       "      <th>Embarked</th>\n",
       "    </tr>\n",
       "  </thead>\n",
       "  <tbody>\n",
       "    <tr>\n",
       "      <th>0</th>\n",
       "      <td>1</td>\n",
       "      <td>0</td>\n",
       "      <td>3</td>\n",
       "      <td>Braund, Mr. Owen Harris</td>\n",
       "      <td>male</td>\n",
       "      <td>22.0</td>\n",
       "      <td>1</td>\n",
       "      <td>0</td>\n",
       "      <td>A/5 21171</td>\n",
       "      <td>7.2500</td>\n",
       "      <td>NaN</td>\n",
       "      <td>S</td>\n",
       "    </tr>\n",
       "    <tr>\n",
       "      <th>1</th>\n",
       "      <td>2</td>\n",
       "      <td>1</td>\n",
       "      <td>1</td>\n",
       "      <td>Cumings, Mrs. John Bradley (Florence Briggs Th...</td>\n",
       "      <td>female</td>\n",
       "      <td>38.0</td>\n",
       "      <td>1</td>\n",
       "      <td>0</td>\n",
       "      <td>PC 17599</td>\n",
       "      <td>71.2833</td>\n",
       "      <td>C85</td>\n",
       "      <td>C</td>\n",
       "    </tr>\n",
       "    <tr>\n",
       "      <th>2</th>\n",
       "      <td>3</td>\n",
       "      <td>1</td>\n",
       "      <td>3</td>\n",
       "      <td>Heikkinen, Miss. Laina</td>\n",
       "      <td>female</td>\n",
       "      <td>26.0</td>\n",
       "      <td>0</td>\n",
       "      <td>0</td>\n",
       "      <td>STON/O2. 3101282</td>\n",
       "      <td>7.9250</td>\n",
       "      <td>NaN</td>\n",
       "      <td>S</td>\n",
       "    </tr>\n",
       "    <tr>\n",
       "      <th>3</th>\n",
       "      <td>4</td>\n",
       "      <td>1</td>\n",
       "      <td>1</td>\n",
       "      <td>Futrelle, Mrs. Jacques Heath (Lily May Peel)</td>\n",
       "      <td>female</td>\n",
       "      <td>35.0</td>\n",
       "      <td>1</td>\n",
       "      <td>0</td>\n",
       "      <td>113803</td>\n",
       "      <td>53.1000</td>\n",
       "      <td>C123</td>\n",
       "      <td>S</td>\n",
       "    </tr>\n",
       "    <tr>\n",
       "      <th>4</th>\n",
       "      <td>5</td>\n",
       "      <td>0</td>\n",
       "      <td>3</td>\n",
       "      <td>Allen, Mr. William Henry</td>\n",
       "      <td>male</td>\n",
       "      <td>35.0</td>\n",
       "      <td>0</td>\n",
       "      <td>0</td>\n",
       "      <td>373450</td>\n",
       "      <td>8.0500</td>\n",
       "      <td>NaN</td>\n",
       "      <td>S</td>\n",
       "    </tr>\n",
       "  </tbody>\n",
       "</table>\n",
       "</div>"
      ],
      "text/plain": [
       "   PassengerId  Survived  Pclass  \\\n",
       "0            1         0       3   \n",
       "1            2         1       1   \n",
       "2            3         1       3   \n",
       "3            4         1       1   \n",
       "4            5         0       3   \n",
       "\n",
       "                                                Name     Sex   Age  SibSp  \\\n",
       "0                            Braund, Mr. Owen Harris    male  22.0      1   \n",
       "1  Cumings, Mrs. John Bradley (Florence Briggs Th...  female  38.0      1   \n",
       "2                             Heikkinen, Miss. Laina  female  26.0      0   \n",
       "3       Futrelle, Mrs. Jacques Heath (Lily May Peel)  female  35.0      1   \n",
       "4                           Allen, Mr. William Henry    male  35.0      0   \n",
       "\n",
       "   Parch            Ticket     Fare Cabin Embarked  \n",
       "0      0         A/5 21171   7.2500   NaN        S  \n",
       "1      0          PC 17599  71.2833   C85        C  \n",
       "2      0  STON/O2. 3101282   7.9250   NaN        S  \n",
       "3      0            113803  53.1000  C123        S  \n",
       "4      0            373450   8.0500   NaN        S  "
      ]
     },
     "execution_count": 3,
     "metadata": {},
     "output_type": "execute_result"
    }
   ],
   "source": [
    "data_train.head()"
   ]
  },
  {
   "cell_type": "code",
   "execution_count": 4,
   "id": "dad2a4e7",
   "metadata": {},
   "outputs": [
    {
     "data": {
      "text/plain": [
       "(891, 12)"
      ]
     },
     "execution_count": 4,
     "metadata": {},
     "output_type": "execute_result"
    }
   ],
   "source": [
    "data_train.shape"
   ]
  },
  {
   "cell_type": "code",
   "execution_count": 5,
   "id": "7a303715",
   "metadata": {},
   "outputs": [
    {
     "data": {
      "text/plain": [
       "Index(['PassengerId', 'Survived', 'Pclass', 'Name', 'Sex', 'Age', 'SibSp',\n",
       "       'Parch', 'Ticket', 'Fare', 'Cabin', 'Embarked'],\n",
       "      dtype='object')"
      ]
     },
     "execution_count": 5,
     "metadata": {},
     "output_type": "execute_result"
    }
   ],
   "source": [
    "data_train.columns"
   ]
  },
  {
   "cell_type": "markdown",
   "id": "24c7be48",
   "metadata": {},
   "source": [
    "### Problem Definition"
   ]
  },
  {
   "cell_type": "markdown",
   "id": "d792860e",
   "metadata": {},
   "source": [
    "I have a training dataset with 891 samples (people) who embarked the titanic. I want to predict who is more likely to die according to the features I have about them and find some correlation with what I know."
   ]
  },
  {
   "cell_type": "code",
   "execution_count": 6,
   "id": "db673d49",
   "metadata": {},
   "outputs": [
    {
     "name": "stdout",
     "output_type": "stream",
     "text": [
      "<class 'pandas.core.frame.DataFrame'>\n",
      "RangeIndex: 891 entries, 0 to 890\n",
      "Data columns (total 12 columns):\n",
      " #   Column       Non-Null Count  Dtype  \n",
      "---  ------       --------------  -----  \n",
      " 0   PassengerId  891 non-null    int64  \n",
      " 1   Survived     891 non-null    int64  \n",
      " 2   Pclass       891 non-null    int64  \n",
      " 3   Name         891 non-null    object \n",
      " 4   Sex          891 non-null    object \n",
      " 5   Age          714 non-null    float64\n",
      " 6   SibSp        891 non-null    int64  \n",
      " 7   Parch        891 non-null    int64  \n",
      " 8   Ticket       891 non-null    object \n",
      " 9   Fare         891 non-null    float64\n",
      " 10  Cabin        204 non-null    object \n",
      " 11  Embarked     889 non-null    object \n",
      "dtypes: float64(2), int64(5), object(5)\n",
      "memory usage: 83.7+ KB\n"
     ]
    }
   ],
   "source": [
    "# To check the missing values and data types\n",
    "data_train.info()"
   ]
  },
  {
   "cell_type": "markdown",
   "id": "f22a8372",
   "metadata": {},
   "source": [
    "Missing values in Age, Cabin and embarked."
   ]
  },
  {
   "cell_type": "code",
   "execution_count": 7,
   "id": "caabf4ce",
   "metadata": {
    "scrolled": true
   },
   "outputs": [
    {
     "data": {
      "text/html": [
       "<div>\n",
       "<style scoped>\n",
       "    .dataframe tbody tr th:only-of-type {\n",
       "        vertical-align: middle;\n",
       "    }\n",
       "\n",
       "    .dataframe tbody tr th {\n",
       "        vertical-align: top;\n",
       "    }\n",
       "\n",
       "    .dataframe thead th {\n",
       "        text-align: right;\n",
       "    }\n",
       "</style>\n",
       "<table border=\"1\" class=\"dataframe\">\n",
       "  <thead>\n",
       "    <tr style=\"text-align: right;\">\n",
       "      <th></th>\n",
       "      <th>PassengerId</th>\n",
       "      <th>Survived</th>\n",
       "      <th>Pclass</th>\n",
       "      <th>Age</th>\n",
       "      <th>SibSp</th>\n",
       "      <th>Parch</th>\n",
       "      <th>Fare</th>\n",
       "    </tr>\n",
       "  </thead>\n",
       "  <tbody>\n",
       "    <tr>\n",
       "      <th>count</th>\n",
       "      <td>891.000000</td>\n",
       "      <td>891.000000</td>\n",
       "      <td>891.000000</td>\n",
       "      <td>714.000000</td>\n",
       "      <td>891.000000</td>\n",
       "      <td>891.000000</td>\n",
       "      <td>891.000000</td>\n",
       "    </tr>\n",
       "    <tr>\n",
       "      <th>mean</th>\n",
       "      <td>446.000000</td>\n",
       "      <td>0.383838</td>\n",
       "      <td>2.308642</td>\n",
       "      <td>29.699118</td>\n",
       "      <td>0.523008</td>\n",
       "      <td>0.381594</td>\n",
       "      <td>32.204208</td>\n",
       "    </tr>\n",
       "    <tr>\n",
       "      <th>std</th>\n",
       "      <td>257.353842</td>\n",
       "      <td>0.486592</td>\n",
       "      <td>0.836071</td>\n",
       "      <td>14.526497</td>\n",
       "      <td>1.102743</td>\n",
       "      <td>0.806057</td>\n",
       "      <td>49.693429</td>\n",
       "    </tr>\n",
       "    <tr>\n",
       "      <th>min</th>\n",
       "      <td>1.000000</td>\n",
       "      <td>0.000000</td>\n",
       "      <td>1.000000</td>\n",
       "      <td>0.420000</td>\n",
       "      <td>0.000000</td>\n",
       "      <td>0.000000</td>\n",
       "      <td>0.000000</td>\n",
       "    </tr>\n",
       "    <tr>\n",
       "      <th>25%</th>\n",
       "      <td>223.500000</td>\n",
       "      <td>0.000000</td>\n",
       "      <td>2.000000</td>\n",
       "      <td>20.125000</td>\n",
       "      <td>0.000000</td>\n",
       "      <td>0.000000</td>\n",
       "      <td>7.910400</td>\n",
       "    </tr>\n",
       "    <tr>\n",
       "      <th>50%</th>\n",
       "      <td>446.000000</td>\n",
       "      <td>0.000000</td>\n",
       "      <td>3.000000</td>\n",
       "      <td>28.000000</td>\n",
       "      <td>0.000000</td>\n",
       "      <td>0.000000</td>\n",
       "      <td>14.454200</td>\n",
       "    </tr>\n",
       "    <tr>\n",
       "      <th>75%</th>\n",
       "      <td>668.500000</td>\n",
       "      <td>1.000000</td>\n",
       "      <td>3.000000</td>\n",
       "      <td>38.000000</td>\n",
       "      <td>1.000000</td>\n",
       "      <td>0.000000</td>\n",
       "      <td>31.000000</td>\n",
       "    </tr>\n",
       "    <tr>\n",
       "      <th>max</th>\n",
       "      <td>891.000000</td>\n",
       "      <td>1.000000</td>\n",
       "      <td>3.000000</td>\n",
       "      <td>80.000000</td>\n",
       "      <td>8.000000</td>\n",
       "      <td>6.000000</td>\n",
       "      <td>512.329200</td>\n",
       "    </tr>\n",
       "  </tbody>\n",
       "</table>\n",
       "</div>"
      ],
      "text/plain": [
       "       PassengerId    Survived      Pclass         Age       SibSp  \\\n",
       "count   891.000000  891.000000  891.000000  714.000000  891.000000   \n",
       "mean    446.000000    0.383838    2.308642   29.699118    0.523008   \n",
       "std     257.353842    0.486592    0.836071   14.526497    1.102743   \n",
       "min       1.000000    0.000000    1.000000    0.420000    0.000000   \n",
       "25%     223.500000    0.000000    2.000000   20.125000    0.000000   \n",
       "50%     446.000000    0.000000    3.000000   28.000000    0.000000   \n",
       "75%     668.500000    1.000000    3.000000   38.000000    1.000000   \n",
       "max     891.000000    1.000000    3.000000   80.000000    8.000000   \n",
       "\n",
       "            Parch        Fare  \n",
       "count  891.000000  891.000000  \n",
       "mean     0.381594   32.204208  \n",
       "std      0.806057   49.693429  \n",
       "min      0.000000    0.000000  \n",
       "25%      0.000000    7.910400  \n",
       "50%      0.000000   14.454200  \n",
       "75%      0.000000   31.000000  \n",
       "max      6.000000  512.329200  "
      ]
     },
     "execution_count": 7,
     "metadata": {},
     "output_type": "execute_result"
    }
   ],
   "source": [
    "# Info about numerical values\n",
    "data_train.describe()"
   ]
  },
  {
   "cell_type": "code",
   "execution_count": 8,
   "id": "e5979117",
   "metadata": {},
   "outputs": [
    {
     "data": {
      "text/plain": [
       "891"
      ]
     },
     "execution_count": 8,
     "metadata": {},
     "output_type": "execute_result"
    }
   ],
   "source": [
    "data_train['PassengerId'].nunique()"
   ]
  },
  {
   "cell_type": "code",
   "execution_count": 9,
   "id": "560edd58",
   "metadata": {},
   "outputs": [
    {
     "data": {
      "text/plain": [
       "681"
      ]
     },
     "execution_count": 9,
     "metadata": {},
     "output_type": "execute_result"
    }
   ],
   "source": [
    "data_train['Ticket'].nunique()"
   ]
  },
  {
   "cell_type": "code",
   "execution_count": 10,
   "id": "1bf5a299",
   "metadata": {
    "scrolled": true
   },
   "outputs": [
    {
     "data": {
      "text/html": [
       "<div>\n",
       "<style scoped>\n",
       "    .dataframe tbody tr th:only-of-type {\n",
       "        vertical-align: middle;\n",
       "    }\n",
       "\n",
       "    .dataframe tbody tr th {\n",
       "        vertical-align: top;\n",
       "    }\n",
       "\n",
       "    .dataframe thead th {\n",
       "        text-align: right;\n",
       "    }\n",
       "</style>\n",
       "<table border=\"1\" class=\"dataframe\">\n",
       "  <thead>\n",
       "    <tr style=\"text-align: right;\">\n",
       "      <th></th>\n",
       "      <th>Name</th>\n",
       "      <th>Sex</th>\n",
       "      <th>Ticket</th>\n",
       "      <th>Cabin</th>\n",
       "      <th>Embarked</th>\n",
       "    </tr>\n",
       "  </thead>\n",
       "  <tbody>\n",
       "    <tr>\n",
       "      <th>count</th>\n",
       "      <td>891</td>\n",
       "      <td>891</td>\n",
       "      <td>891</td>\n",
       "      <td>204</td>\n",
       "      <td>889</td>\n",
       "    </tr>\n",
       "    <tr>\n",
       "      <th>unique</th>\n",
       "      <td>891</td>\n",
       "      <td>2</td>\n",
       "      <td>681</td>\n",
       "      <td>147</td>\n",
       "      <td>3</td>\n",
       "    </tr>\n",
       "    <tr>\n",
       "      <th>top</th>\n",
       "      <td>Braund, Mr. Owen Harris</td>\n",
       "      <td>male</td>\n",
       "      <td>347082</td>\n",
       "      <td>B96 B98</td>\n",
       "      <td>S</td>\n",
       "    </tr>\n",
       "    <tr>\n",
       "      <th>freq</th>\n",
       "      <td>1</td>\n",
       "      <td>577</td>\n",
       "      <td>7</td>\n",
       "      <td>4</td>\n",
       "      <td>644</td>\n",
       "    </tr>\n",
       "  </tbody>\n",
       "</table>\n",
       "</div>"
      ],
      "text/plain": [
       "                           Name   Sex  Ticket    Cabin Embarked\n",
       "count                       891   891     891      204      889\n",
       "unique                      891     2     681      147        3\n",
       "top     Braund, Mr. Owen Harris  male  347082  B96 B98        S\n",
       "freq                          1   577       7        4      644"
      ]
     },
     "execution_count": 10,
     "metadata": {},
     "output_type": "execute_result"
    }
   ],
   "source": [
    "# Info about categorical values\n",
    "data_train.describe(exclude=np.number)"
   ]
  },
  {
   "cell_type": "code",
   "execution_count": 11,
   "id": "e808f22a",
   "metadata": {},
   "outputs": [],
   "source": [
    "# Drop columns of unique values: not necessary for this use case\n",
    "data_train.drop(columns='PassengerId', inplace=True)\n",
    "\n",
    "# Also drop ticket number since we have information about family on board so no need to have the ticket number (almost unique)\n",
    "data_train.drop(columns='Ticket', inplace=True)\n",
    "\n",
    "#Drop Cabin since 80% missing values and out of the none missing appears at most 4 times\n",
    "data_train.drop(columns='Cabin', inplace=True)"
   ]
  },
  {
   "cell_type": "code",
   "execution_count": 12,
   "id": "63ee8221",
   "metadata": {},
   "outputs": [],
   "source": [
    "# Let's split into numerical and categorical features \n",
    "cat = ['Survived','Sex','Embarked','Pclass']\n",
    "# Not using 'name' and'cabin' for now since almost unique, I might extract features from them\n",
    "num = data_train.drop(columns=cat+['Name']).columns"
   ]
  },
  {
   "cell_type": "markdown",
   "id": "10b3fd94",
   "metadata": {},
   "source": [
    "### Data Distribution"
   ]
  },
  {
   "cell_type": "code",
   "execution_count": 13,
   "id": "a805dafa",
   "metadata": {
    "scrolled": true
   },
   "outputs": [
    {
     "name": "stderr",
     "output_type": "stream",
     "text": [
      "C:\\Users\\L E N O V O\\anaconda3\\lib\\site-packages\\seaborn\\_decorators.py:36: FutureWarning: Pass the following variable as a keyword arg: x. From version 0.12, the only valid positional argument will be `data`, and passing other arguments without an explicit keyword will result in an error or misinterpretation.\n",
      "  warnings.warn(\n",
      "C:\\Users\\L E N O V O\\anaconda3\\lib\\site-packages\\seaborn\\_decorators.py:36: FutureWarning: Pass the following variable as a keyword arg: x. From version 0.12, the only valid positional argument will be `data`, and passing other arguments without an explicit keyword will result in an error or misinterpretation.\n",
      "  warnings.warn(\n",
      "C:\\Users\\L E N O V O\\anaconda3\\lib\\site-packages\\seaborn\\_decorators.py:36: FutureWarning: Pass the following variable as a keyword arg: x. From version 0.12, the only valid positional argument will be `data`, and passing other arguments without an explicit keyword will result in an error or misinterpretation.\n",
      "  warnings.warn(\n",
      "C:\\Users\\L E N O V O\\anaconda3\\lib\\site-packages\\seaborn\\_decorators.py:36: FutureWarning: Pass the following variable as a keyword arg: x. From version 0.12, the only valid positional argument will be `data`, and passing other arguments without an explicit keyword will result in an error or misinterpretation.\n",
      "  warnings.warn(\n"
     ]
    },
    {
     "data": {
      "image/png": "[encoded data removed]",
      "text/plain": [
       "<Figure size 936x360 with 4 Axes>"
      ]
     },
     "metadata": {
      "needs_background": "light"
     },
     "output_type": "display_data"
    }
   ],
   "source": [
    "fig = plt.figure(figsize=(13, 5))\n",
    "fig.suptitle('Distributions of categorical features', fontsize=20)\n",
    "num_cols = 4\n",
    "num_rows = 1\n",
    "\n",
    "for i, col in enumerate(cat):\n",
    "    ax = fig.add_subplot(num_rows, num_cols, i + 1)\n",
    "    g = sns.countplot(data_train[col], ax=ax)\n",
    "    ax.set_title(col)\n",
    "    for j,p in enumerate(g.patches):\n",
    "        g.annotate(format((data_train[col].value_counts()/data_train[col].count()).iloc[j], '.0%'), \\\n",
    "                   (p.get_x() + p.get_width() / 2., \\\n",
    "                    p.get_height()/2 -10), \\\n",
    "                   ha = 'center', \\\n",
    "                   va = 'center', \\\n",
    "                   xytext = (0, 10), \\\n",
    "                   textcoords = 'offset points')\n",
    "plt.tight_layout(pad=2)"
   ]
  },
  {
   "cell_type": "markdown",
   "id": "850dcd86",
   "metadata": {},
   "source": [
    "Most people in the data did not survive, the data is not toally balanced  <br>\n",
    "Most are males <br>\n",
    "most embarked through S <br>\n",
    "Most were in class 3"
   ]
  },
  {
   "cell_type": "code",
   "execution_count": 14,
   "id": "5a9b6ce7",
   "metadata": {},
   "outputs": [
    {
     "data": {
      "image/png": "[encoded data removed]",
      "text/plain": [
       "<Figure size 1080x360 with 4 Axes>"
      ]
     },
     "metadata": {
      "needs_background": "light"
     },
     "output_type": "display_data"
    }
   ],
   "source": [
    "fig = plt.figure(figsize=(15, 5))\n",
    "fig.suptitle('Distributions of numerical features', fontsize=20)\n",
    "num_cols = 4\n",
    "num_rows = 1\n",
    "\n",
    "for i, col in enumerate(num):\n",
    "    ax = fig.add_subplot(num_rows, num_cols, i + 1)\n",
    "    sns.histplot(data_train[col], ax=ax, kde=True)\n",
    "    ax.set_title(col)\n",
    "plt.tight_layout(pad=2)\n"
   ]
  },
  {
   "cell_type": "markdown",
   "id": "b1ec5992",
   "metadata": {},
   "source": [
    "Most people in the data set are between 20 to 40 <br>\n",
    "Most dont have siblings <br>\n",
    "most dont have parents nor children onboard <br>\n",
    "Most paid more than 0 and less than 100 (0 has to be investigated)"
   ]
  },
  {
   "cell_type": "markdown",
   "id": "883a5332",
   "metadata": {},
   "source": [
    "### Data Distribution against the dependent variable (Survived)"
   ]
  },
  {
   "cell_type": "code",
   "execution_count": 15,
   "id": "05760efe",
   "metadata": {},
   "outputs": [
    {
     "name": "stdout",
     "output_type": "stream",
     "text": [
      "Survived    0    1\n",
      "Survived          \n",
      "0         1.0  0.0\n",
      "1         0.0  1.0 \n",
      "\n",
      "\n",
      "Survived     0     1\n",
      "Sex                 \n",
      "female    0.26  0.74\n",
      "male      0.81  0.19 \n",
      "\n",
      "\n",
      "Survived     0     1\n",
      "Embarked            \n",
      "C         0.45  0.55\n",
      "Q         0.61  0.39\n",
      "S         0.66  0.34 \n",
      "\n",
      "\n",
      "Survived     0     1\n",
      "Pclass              \n",
      "1         0.37  0.63\n",
      "2         0.53  0.47\n",
      "3         0.76  0.24 \n",
      "\n",
      "\n"
     ]
    }
   ],
   "source": [
    "for c in cat:\n",
    "    print(pd.crosstab(data_train[c],data_train['Survived']).apply(lambda x: round(x/x.sum(),2), axis=1), '\\n\\n')"
   ]
  },
  {
   "cell_type": "code",
   "execution_count": 16,
   "id": "ed6cea4e",
   "metadata": {},
   "outputs": [
    {
     "data": {
      "image/png": "[encoded data removed]",
      "text/plain": [
       "<Figure size 936x360 with 4 Axes>"
      ]
     },
     "metadata": {
      "needs_background": "light"
     },
     "output_type": "display_data"
    }
   ],
   "source": [
    "fig = plt.figure(figsize=(13, 5))\n",
    "num_cols = 4\n",
    "num_rows = 1\n",
    "\n",
    "for i, c in enumerate(cat):\n",
    "    ax = fig.add_subplot(num_rows, num_cols, i + 1)\n",
    "    sns.countplot(x = data_train['Survived'],  hue = data_train[c], data=data_train, ax=ax)\n",
    "    ax.set_title('Distribution of Survived vs. {}'.format(c))\n",
    "plt.tight_layout(pad=2)"
   ]
  },
  {
   "cell_type": "markdown",
   "id": "563b6008",
   "metadata": {},
   "source": [
    "Very interesting results: <br>\n",
    "**Sex** : female have a survival rate higher than male (high correlation) <br>\n",
    "**Embarked** : The distribution is not so different (no crazy results) <br>\n",
    "**PClass** : Class 3 is highly correlated when not surviving anf class 1 for survived (no as hogh correlation)"
   ]
  },
  {
   "cell_type": "code",
   "execution_count": 17,
   "id": "9d14a563",
   "metadata": {},
   "outputs": [
    {
     "name": "stdout",
     "output_type": "stream",
     "text": [
      "Survived     0     1\n",
      "SibSp               \n",
      "0         0.65  0.35\n",
      "1         0.46  0.54\n",
      "2         0.54  0.46\n",
      "3         0.75  0.25\n",
      "4         0.83  0.17\n",
      "5         1.00  0.00\n",
      "8         1.00  0.00 \n",
      "\n",
      "\n"
     ]
    }
   ],
   "source": [
    "print(pd.crosstab(data_train['SibSp'],data_train['Survived']).apply(lambda x: round(x/x.sum(),2), axis=1), '\\n\\n')"
   ]
  },
  {
   "cell_type": "code",
   "execution_count": 18,
   "id": "d3c6718e",
   "metadata": {},
   "outputs": [
    {
     "data": {
      "text/plain": [
       "0    608\n",
       "1    209\n",
       "2     28\n",
       "4     18\n",
       "3     16\n",
       "8      7\n",
       "5      5\n",
       "Name: SibSp, dtype: int64"
      ]
     },
     "execution_count": 18,
     "metadata": {},
     "output_type": "execute_result"
    }
   ],
   "source": [
    "data_train['SibSp'].value_counts()"
   ]
  },
  {
   "cell_type": "code",
   "execution_count": 19,
   "id": "8896f130",
   "metadata": {},
   "outputs": [
    {
     "name": "stdout",
     "output_type": "stream",
     "text": [
      "Survived     0     1\n",
      "Parch               \n",
      "0         0.66  0.34\n",
      "1         0.45  0.55\n",
      "2         0.50  0.50\n",
      "3         0.40  0.60\n",
      "4         1.00  0.00\n",
      "5         0.80  0.20\n",
      "6         1.00  0.00 \n",
      "\n",
      "\n"
     ]
    }
   ],
   "source": [
    "print(pd.crosstab(data_train['Parch'],data_train['Survived']).apply(lambda x: round(x/x.sum(),2), axis=1), '\\n\\n')"
   ]
  },
  {
   "cell_type": "code",
   "execution_count": 20,
   "id": "7ce71268",
   "metadata": {},
   "outputs": [
    {
     "data": {
      "text/plain": [
       "0    678\n",
       "1    118\n",
       "2     80\n",
       "5      5\n",
       "3      5\n",
       "4      4\n",
       "6      1\n",
       "Name: Parch, dtype: int64"
      ]
     },
     "execution_count": 20,
     "metadata": {},
     "output_type": "execute_result"
    }
   ],
   "source": [
    "data_train['Parch'].value_counts()"
   ]
  },
  {
   "cell_type": "markdown",
   "id": "326fa650",
   "metadata": {},
   "source": [
    "We don't have so many samples when bigger family so it's hard to say there an actual correlation, we just see that when people have no family (siblings nor family) we have 65 percent who did not survive et 35 who did (for both siblings and parents). I can later feature engineer to mix those 2 features together."
   ]
  },
  {
   "cell_type": "code",
   "execution_count": 21,
   "id": "5c8975f0",
   "metadata": {
    "scrolled": true
   },
   "outputs": [
    {
     "data": {
      "text/html": [
       "<div>\n",
       "<style scoped>\n",
       "    .dataframe tbody tr th:only-of-type {\n",
       "        vertical-align: middle;\n",
       "    }\n",
       "\n",
       "    .dataframe tbody tr th {\n",
       "        vertical-align: top;\n",
       "    }\n",
       "\n",
       "    .dataframe thead tr th {\n",
       "        text-align: left;\n",
       "    }\n",
       "\n",
       "    .dataframe thead tr:last-of-type th {\n",
       "        text-align: right;\n",
       "    }\n",
       "</style>\n",
       "<table border=\"1\" class=\"dataframe\">\n",
       "  <thead>\n",
       "    <tr>\n",
       "      <th></th>\n",
       "      <th colspan=\"2\" halign=\"left\">Age</th>\n",
       "      <th colspan=\"2\" halign=\"left\">Fare</th>\n",
       "    </tr>\n",
       "    <tr>\n",
       "      <th></th>\n",
       "      <th>mean</th>\n",
       "      <th>median</th>\n",
       "      <th>mean</th>\n",
       "      <th>median</th>\n",
       "    </tr>\n",
       "    <tr>\n",
       "      <th>Survived</th>\n",
       "      <th></th>\n",
       "      <th></th>\n",
       "      <th></th>\n",
       "      <th></th>\n",
       "    </tr>\n",
       "  </thead>\n",
       "  <tbody>\n",
       "    <tr>\n",
       "      <th>0</th>\n",
       "      <td>30.626179</td>\n",
       "      <td>28.0</td>\n",
       "      <td>22.117887</td>\n",
       "      <td>10.5</td>\n",
       "    </tr>\n",
       "    <tr>\n",
       "      <th>1</th>\n",
       "      <td>28.343690</td>\n",
       "      <td>28.0</td>\n",
       "      <td>48.395408</td>\n",
       "      <td>26.0</td>\n",
       "    </tr>\n",
       "  </tbody>\n",
       "</table>\n",
       "</div>"
      ],
      "text/plain": [
       "                Age              Fare       \n",
       "               mean median       mean median\n",
       "Survived                                    \n",
       "0         30.626179   28.0  22.117887   10.5\n",
       "1         28.343690   28.0  48.395408   26.0"
      ]
     },
     "execution_count": 21,
     "metadata": {},
     "output_type": "execute_result"
    }
   ],
   "source": [
    "data_train[['Age', 'Fare','Survived']].groupby('Survived').agg(['mean', 'median'])"
   ]
  },
  {
   "cell_type": "markdown",
   "id": "187692e7",
   "metadata": {},
   "source": [
    "The mean and median age are very close for survival rate. I want to find more for different age groups <br>\n",
    "We can see that the people who survived have higher mean and median fare. I saw that people in first class have higher survival rate so it makes sense."
   ]
  },
  {
   "cell_type": "code",
   "execution_count": 22,
   "id": "e83f9a84",
   "metadata": {},
   "outputs": [
    {
     "data": {
      "image/png": "[encoded data removed]",
      "text/plain": [
       "<Figure size 504x216 with 1 Axes>"
      ]
     },
     "metadata": {
      "needs_background": "light"
     },
     "output_type": "display_data"
    }
   ],
   "source": [
    "data_train.groupby('Survived')['Age'].plot(kind='kde', figsize=(7, 3))\n",
    "plt.legend(loc = 'upper right')\n",
    "plt.title('Age density by survived')\n",
    "plt.xlabel('Age')\n",
    "plt.xlim(data_train['Age'].min(), data_train['Age'].max())\n",
    "plt.show()"
   ]
  },
  {
   "cell_type": "markdown",
   "id": "43a1146c",
   "metadata": {},
   "source": [
    "We can see cuts where the density changes: <br>\n",
    "Before 20 more survived <br>\n",
    "Between 20 and 30 more died <br>\n",
    "Between 30 and 40 a little more survived <br>\n",
    "Between 60 and 80 more died but we clearly have less people. <br>\n",
    "Very interesting to cut into bins according to that."
   ]
  },
  {
   "cell_type": "code",
   "execution_count": 23,
   "id": "2ed6a839",
   "metadata": {},
   "outputs": [
    {
     "name": "stderr",
     "output_type": "stream",
     "text": [
      "C:\\Users\\LENOVO~1\\AppData\\Local\\Temp/ipykernel_12268/2449149805.py:3: DeprecationWarning: `np.bool` is a deprecated alias for the builtin `bool`. To silence this warning, use `bool` by itself. Doing this will not modify any behavior and is safe. If you specifically wanted the numpy scalar type, use `np.bool_` here.\n",
      "Deprecated in NumPy 1.20; for more details and guidance: https://numpy.org/devdocs/release/1.20.0-notes.html#deprecations\n",
      "  mask = np.tril(np.ones_like(corr, dtype=np.bool))\n"
     ]
    },
    {
     "data": {
      "image/png": "[encoded data removed]",
      "text/plain": [
       "<Figure size 432x288 with 2 Axes>"
      ]
     },
     "metadata": {
      "needs_background": "light"
     },
     "output_type": "display_data"
    }
   ],
   "source": [
    "# Correlation between numerical values\n",
    "corr = data_train.corr()\n",
    "mask = np.tril(np.ones_like(corr, dtype=np.bool))\n",
    "ax = sns.heatmap(data_train.corr(), annot=True, fmt=\".2f\", mask = mask, square = True)"
   ]
  },
  {
   "cell_type": "markdown",
   "id": "186df265",
   "metadata": {},
   "source": [
    "We have a high negative correlation between fare and Pclass (makes sense since higher the class (actually lower class: 3<1) lower fare). Still I won't remove this column since not enough correlated"
   ]
  },
  {
   "cell_type": "code",
   "execution_count": 101,
   "id": "a380d2ff",
   "metadata": {},
   "outputs": [],
   "source": [
    "target = 'Survived'\n",
    "X = data_train.drop(columns=[target])\n",
    "y = data_train[target]"
   ]
  },
  {
   "cell_type": "code",
   "execution_count": 102,
   "id": "1340e160",
   "metadata": {},
   "outputs": [],
   "source": [
    "from sklearn.model_selection import train_test_split"
   ]
  },
  {
   "cell_type": "code",
   "execution_count": 103,
   "id": "76363b3b",
   "metadata": {},
   "outputs": [],
   "source": [
    "X_train, X_test, y_train, y_test = \\\n",
    "    train_test_split(X, y,\n",
    "                     test_size=.2,\n",
    "                     random_state=42)"
   ]
  },
  {
   "cell_type": "markdown",
   "id": "0c2eaf84",
   "metadata": {},
   "source": [
    "## None Values"
   ]
  },
  {
   "cell_type": "code",
   "execution_count": 104,
   "id": "814213f5",
   "metadata": {
    "scrolled": true
   },
   "outputs": [
    {
     "data": {
      "text/plain": [
       "Age         0.196629\n",
       "Embarked    0.002809\n",
       "dtype: float64"
      ]
     },
     "execution_count": 104,
     "metadata": {},
     "output_type": "execute_result"
    }
   ],
   "source": [
    "# percentage of none values in columns containing none values\n",
    "X_train.isna().sum()[X_train.isna().sum()>0]/X_train.shape[0]"
   ]
  },
  {
   "cell_type": "code",
   "execution_count": 105,
   "id": "df674d0d",
   "metadata": {},
   "outputs": [
    {
     "data": {
      "text/plain": [
       "Age    0.206704\n",
       "dtype: float64"
      ]
     },
     "execution_count": 105,
     "metadata": {},
     "output_type": "execute_result"
    }
   ],
   "source": [
    "X_test.isna().sum()[X_test.isna().sum()>0]/X_test.shape[0]"
   ]
  },
  {
   "cell_type": "markdown",
   "id": "65782afc",
   "metadata": {},
   "source": [
    "### Embarked"
   ]
  },
  {
   "cell_type": "code",
   "execution_count": 106,
   "id": "e4600f62",
   "metadata": {
    "scrolled": false
   },
   "outputs": [
    {
     "data": {
      "text/html": [
       "<div>\n",
       "<style scoped>\n",
       "    .dataframe tbody tr th:only-of-type {\n",
       "        vertical-align: middle;\n",
       "    }\n",
       "\n",
       "    .dataframe tbody tr th {\n",
       "        vertical-align: top;\n",
       "    }\n",
       "\n",
       "    .dataframe thead th {\n",
       "        text-align: right;\n",
       "    }\n",
       "</style>\n",
       "<table border=\"1\" class=\"dataframe\">\n",
       "  <thead>\n",
       "    <tr style=\"text-align: right;\">\n",
       "      <th></th>\n",
       "      <th>Pclass</th>\n",
       "      <th>Name</th>\n",
       "      <th>Sex</th>\n",
       "      <th>Age</th>\n",
       "      <th>SibSp</th>\n",
       "      <th>Parch</th>\n",
       "      <th>Fare</th>\n",
       "      <th>Embarked</th>\n",
       "    </tr>\n",
       "  </thead>\n",
       "  <tbody>\n",
       "    <tr>\n",
       "      <th>829</th>\n",
       "      <td>1</td>\n",
       "      <td>Stone, Mrs. George Nelson (Martha Evelyn)</td>\n",
       "      <td>female</td>\n",
       "      <td>62.0</td>\n",
       "      <td>0</td>\n",
       "      <td>0</td>\n",
       "      <td>80.0</td>\n",
       "      <td>NaN</td>\n",
       "    </tr>\n",
       "    <tr>\n",
       "      <th>61</th>\n",
       "      <td>1</td>\n",
       "      <td>Icard, Miss. Amelie</td>\n",
       "      <td>female</td>\n",
       "      <td>38.0</td>\n",
       "      <td>0</td>\n",
       "      <td>0</td>\n",
       "      <td>80.0</td>\n",
       "      <td>NaN</td>\n",
       "    </tr>\n",
       "  </tbody>\n",
       "</table>\n",
       "</div>"
      ],
      "text/plain": [
       "     Pclass                                       Name     Sex   Age  SibSp  \\\n",
       "829       1  Stone, Mrs. George Nelson (Martha Evelyn)  female  62.0      0   \n",
       "61        1                        Icard, Miss. Amelie  female  38.0      0   \n",
       "\n",
       "     Parch  Fare Embarked  \n",
       "829      0  80.0      NaN  \n",
       "61       0  80.0      NaN  "
      ]
     },
     "execution_count": 106,
     "metadata": {},
     "output_type": "execute_result"
    }
   ],
   "source": [
    "X_train[X_train['Embarked'].isna()]"
   ]
  },
  {
   "cell_type": "code",
   "execution_count": 107,
   "id": "338dcf7e",
   "metadata": {},
   "outputs": [
    {
     "data": {
      "text/plain": [
       "Pclass  Embarked\n",
       "1       S           63.354037\n",
       "        C           35.403727\n",
       "        Q            1.242236\n",
       "2       S           87.417219\n",
       "        C           10.596026\n",
       "        Q            1.986755\n",
       "3       S           73.115578\n",
       "        Q           13.819095\n",
       "        C           13.065327\n",
       "Name: Embarked, dtype: float64"
      ]
     },
     "execution_count": 107,
     "metadata": {},
     "output_type": "execute_result"
    }
   ],
   "source": [
    "100*X_train.groupby('Pclass')['Embarked'].value_counts()/X_train.groupby('Pclass')['Embarked'].count()"
   ]
  },
  {
   "cell_type": "markdown",
   "id": "8212d1b3",
   "metadata": {},
   "source": [
    "I see that for every class most people embarked through S, so there is not so much correlation with th class since you have similar distributions (Only for class 2 where 90% embarked through S)"
   ]
  },
  {
   "cell_type": "code",
   "execution_count": 108,
   "id": "14b848ba",
   "metadata": {},
   "outputs": [
    {
     "data": {
      "text/html": [
       "<div>\n",
       "<style scoped>\n",
       "    .dataframe tbody tr th:only-of-type {\n",
       "        vertical-align: middle;\n",
       "    }\n",
       "\n",
       "    .dataframe tbody tr th {\n",
       "        vertical-align: top;\n",
       "    }\n",
       "\n",
       "    .dataframe thead th {\n",
       "        text-align: right;\n",
       "    }\n",
       "</style>\n",
       "<table border=\"1\" class=\"dataframe\">\n",
       "  <thead>\n",
       "    <tr style=\"text-align: right;\">\n",
       "      <th></th>\n",
       "      <th>mean</th>\n",
       "      <th>median</th>\n",
       "      <th>max</th>\n",
       "    </tr>\n",
       "    <tr>\n",
       "      <th>Embarked</th>\n",
       "      <th></th>\n",
       "      <th></th>\n",
       "      <th></th>\n",
       "    </tr>\n",
       "  </thead>\n",
       "  <tbody>\n",
       "    <tr>\n",
       "      <th>C</th>\n",
       "      <td>60.796836</td>\n",
       "      <td>27.7208</td>\n",
       "      <td>512.3292</td>\n",
       "    </tr>\n",
       "    <tr>\n",
       "      <th>Q</th>\n",
       "      <td>14.065487</td>\n",
       "      <td>7.7500</td>\n",
       "      <td>90.0000</td>\n",
       "    </tr>\n",
       "    <tr>\n",
       "      <th>S</th>\n",
       "      <td>27.805514</td>\n",
       "      <td>13.0000</td>\n",
       "      <td>263.0000</td>\n",
       "    </tr>\n",
       "  </tbody>\n",
       "</table>\n",
       "</div>"
      ],
      "text/plain": [
       "               mean   median       max\n",
       "Embarked                              \n",
       "C         60.796836  27.7208  512.3292\n",
       "Q         14.065487   7.7500   90.0000\n",
       "S         27.805514  13.0000  263.0000"
      ]
     },
     "execution_count": 108,
     "metadata": {},
     "output_type": "execute_result"
    }
   ],
   "source": [
    "X_train.groupby('Embarked')['Fare'].agg(['mean', 'median', 'max'])"
   ]
  },
  {
   "cell_type": "markdown",
   "id": "7e65389d",
   "metadata": {},
   "source": [
    "Highest fare embarked through gate C. For both of our None value we get higher fare than the mean for C so I will replace the None values by C"
   ]
  },
  {
   "cell_type": "code",
   "execution_count": 109,
   "id": "4ad84df2",
   "metadata": {},
   "outputs": [
    {
     "name": "stderr",
     "output_type": "stream",
     "text": [
      "C:\\Users\\L E N O V O\\anaconda3\\lib\\site-packages\\pandas\\core\\generic.py:6392: SettingWithCopyWarning: \n",
      "A value is trying to be set on a copy of a slice from a DataFrame\n",
      "\n",
      "See the caveats in the documentation: https://pandas.pydata.org/pandas-docs/stable/user_guide/indexing.html#returning-a-view-versus-a-copy\n",
      "  return self._update_inplace(result)\n"
     ]
    }
   ],
   "source": [
    "X_train['Embarked'].fillna('C', inplace=True)"
   ]
  },
  {
   "cell_type": "code",
   "execution_count": 110,
   "id": "1fe8ac12",
   "metadata": {},
   "outputs": [
    {
     "data": {
      "text/plain": [
       "Age    0.196629\n",
       "dtype: float64"
      ]
     },
     "execution_count": 110,
     "metadata": {},
     "output_type": "execute_result"
    }
   ],
   "source": [
    "X_train.isna().sum()[X_train.isna().sum()>0]/X_train.shape[0]"
   ]
  },
  {
   "cell_type": "code",
   "execution_count": 111,
   "id": "9325fdda",
   "metadata": {},
   "outputs": [
    {
     "data": {
      "text/plain": [
       "Age    0.206704\n",
       "dtype: float64"
      ]
     },
     "execution_count": 111,
     "metadata": {},
     "output_type": "execute_result"
    }
   ],
   "source": [
    "X_test.isna().sum()[X_test.isna().sum()>0]/X_test.shape[0]"
   ]
  },
  {
   "cell_type": "markdown",
   "id": "e6796f05",
   "metadata": {},
   "source": [
    "### Age"
   ]
  },
  {
   "cell_type": "code",
   "execution_count": 112,
   "id": "378af1ca",
   "metadata": {},
   "outputs": [
    {
     "data": {
      "text/plain": [
       "83"
      ]
     },
     "execution_count": 112,
     "metadata": {},
     "output_type": "execute_result"
    }
   ],
   "source": [
    "X_train['Age'].nunique()"
   ]
  },
  {
   "cell_type": "markdown",
   "id": "ab16f117",
   "metadata": {},
   "source": [
    "The age was negatively correlated to the nu;ber of siblings on board."
   ]
  },
  {
   "cell_type": "code",
   "execution_count": 113,
   "id": "f986176f",
   "metadata": {},
   "outputs": [
    {
     "data": {
      "text/plain": [
       "7"
      ]
     },
     "execution_count": 113,
     "metadata": {},
     "output_type": "execute_result"
    }
   ],
   "source": [
    "X_train['SibSp'].nunique()"
   ]
  },
  {
   "cell_type": "code",
   "execution_count": 114,
   "id": "ce1f1d95",
   "metadata": {},
   "outputs": [
    {
     "data": {
      "text/html": [
       "<div>\n",
       "<style scoped>\n",
       "    .dataframe tbody tr th:only-of-type {\n",
       "        vertical-align: middle;\n",
       "    }\n",
       "\n",
       "    .dataframe tbody tr th {\n",
       "        vertical-align: top;\n",
       "    }\n",
       "\n",
       "    .dataframe thead th {\n",
       "        text-align: right;\n",
       "    }\n",
       "</style>\n",
       "<table border=\"1\" class=\"dataframe\">\n",
       "  <thead>\n",
       "    <tr style=\"text-align: right;\">\n",
       "      <th></th>\n",
       "      <th>mean</th>\n",
       "      <th>median</th>\n",
       "      <th>min</th>\n",
       "      <th>max</th>\n",
       "    </tr>\n",
       "    <tr>\n",
       "      <th>SibSp</th>\n",
       "      <th></th>\n",
       "      <th></th>\n",
       "      <th></th>\n",
       "      <th></th>\n",
       "    </tr>\n",
       "  </thead>\n",
       "  <tbody>\n",
       "    <tr>\n",
       "      <th>0</th>\n",
       "      <td>31.324652</td>\n",
       "      <td>29.0</td>\n",
       "      <td>0.42</td>\n",
       "      <td>80.0</td>\n",
       "    </tr>\n",
       "    <tr>\n",
       "      <th>1</th>\n",
       "      <td>29.723946</td>\n",
       "      <td>30.0</td>\n",
       "      <td>0.67</td>\n",
       "      <td>70.0</td>\n",
       "    </tr>\n",
       "    <tr>\n",
       "      <th>2</th>\n",
       "      <td>24.125000</td>\n",
       "      <td>24.0</td>\n",
       "      <td>0.75</td>\n",
       "      <td>53.0</td>\n",
       "    </tr>\n",
       "    <tr>\n",
       "      <th>3</th>\n",
       "      <td>15.300000</td>\n",
       "      <td>14.0</td>\n",
       "      <td>2.00</td>\n",
       "      <td>33.0</td>\n",
       "    </tr>\n",
       "    <tr>\n",
       "      <th>4</th>\n",
       "      <td>6.375000</td>\n",
       "      <td>5.5</td>\n",
       "      <td>1.00</td>\n",
       "      <td>17.0</td>\n",
       "    </tr>\n",
       "    <tr>\n",
       "      <th>5</th>\n",
       "      <td>10.200000</td>\n",
       "      <td>11.0</td>\n",
       "      <td>1.00</td>\n",
       "      <td>16.0</td>\n",
       "    </tr>\n",
       "    <tr>\n",
       "      <th>8</th>\n",
       "      <td>NaN</td>\n",
       "      <td>NaN</td>\n",
       "      <td>NaN</td>\n",
       "      <td>NaN</td>\n",
       "    </tr>\n",
       "  </tbody>\n",
       "</table>\n",
       "</div>"
      ],
      "text/plain": [
       "            mean  median   min   max\n",
       "SibSp                               \n",
       "0      31.324652    29.0  0.42  80.0\n",
       "1      29.723946    30.0  0.67  70.0\n",
       "2      24.125000    24.0  0.75  53.0\n",
       "3      15.300000    14.0  2.00  33.0\n",
       "4       6.375000     5.5  1.00  17.0\n",
       "5      10.200000    11.0  1.00  16.0\n",
       "8            NaN     NaN   NaN   NaN"
      ]
     },
     "execution_count": 114,
     "metadata": {},
     "output_type": "execute_result"
    }
   ],
   "source": [
    "X_train.groupby('SibSp')['Age'].agg(['mean', 'median','min', 'max'])"
   ]
  },
  {
   "cell_type": "markdown",
   "id": "0df9ab9b",
   "metadata": {},
   "source": [
    "The median age is correlated to the number of siblings: more you have siblings younger is the median age."
   ]
  },
  {
   "cell_type": "code",
   "execution_count": 115,
   "id": "1e9aca0a",
   "metadata": {
    "scrolled": true
   },
   "outputs": [
    {
     "data": {
      "text/html": [
       "<div>\n",
       "<style scoped>\n",
       "    .dataframe tbody tr th:only-of-type {\n",
       "        vertical-align: middle;\n",
       "    }\n",
       "\n",
       "    .dataframe tbody tr th {\n",
       "        vertical-align: top;\n",
       "    }\n",
       "\n",
       "    .dataframe thead th {\n",
       "        text-align: right;\n",
       "    }\n",
       "</style>\n",
       "<table border=\"1\" class=\"dataframe\">\n",
       "  <thead>\n",
       "    <tr style=\"text-align: right;\">\n",
       "      <th></th>\n",
       "      <th>Pclass</th>\n",
       "      <th>Name</th>\n",
       "      <th>Sex</th>\n",
       "      <th>Age</th>\n",
       "      <th>SibSp</th>\n",
       "      <th>Parch</th>\n",
       "      <th>Fare</th>\n",
       "      <th>Embarked</th>\n",
       "    </tr>\n",
       "  </thead>\n",
       "  <tbody>\n",
       "    <tr>\n",
       "      <th>324</th>\n",
       "      <td>3</td>\n",
       "      <td>Sage, Mr. George John Jr</td>\n",
       "      <td>male</td>\n",
       "      <td>NaN</td>\n",
       "      <td>8</td>\n",
       "      <td>2</td>\n",
       "      <td>69.55</td>\n",
       "      <td>S</td>\n",
       "    </tr>\n",
       "    <tr>\n",
       "      <th>792</th>\n",
       "      <td>3</td>\n",
       "      <td>Sage, Miss. Stella Anna</td>\n",
       "      <td>female</td>\n",
       "      <td>NaN</td>\n",
       "      <td>8</td>\n",
       "      <td>2</td>\n",
       "      <td>69.55</td>\n",
       "      <td>S</td>\n",
       "    </tr>\n",
       "    <tr>\n",
       "      <th>180</th>\n",
       "      <td>3</td>\n",
       "      <td>Sage, Miss. Constance Gladys</td>\n",
       "      <td>female</td>\n",
       "      <td>NaN</td>\n",
       "      <td>8</td>\n",
       "      <td>2</td>\n",
       "      <td>69.55</td>\n",
       "      <td>S</td>\n",
       "    </tr>\n",
       "    <tr>\n",
       "      <th>863</th>\n",
       "      <td>3</td>\n",
       "      <td>Sage, Miss. Dorothy Edith \"Dolly\"</td>\n",
       "      <td>female</td>\n",
       "      <td>NaN</td>\n",
       "      <td>8</td>\n",
       "      <td>2</td>\n",
       "      <td>69.55</td>\n",
       "      <td>S</td>\n",
       "    </tr>\n",
       "    <tr>\n",
       "      <th>846</th>\n",
       "      <td>3</td>\n",
       "      <td>Sage, Mr. Douglas Bullen</td>\n",
       "      <td>male</td>\n",
       "      <td>NaN</td>\n",
       "      <td>8</td>\n",
       "      <td>2</td>\n",
       "      <td>69.55</td>\n",
       "      <td>S</td>\n",
       "    </tr>\n",
       "    <tr>\n",
       "      <th>159</th>\n",
       "      <td>3</td>\n",
       "      <td>Sage, Master. Thomas Henry</td>\n",
       "      <td>male</td>\n",
       "      <td>NaN</td>\n",
       "      <td>8</td>\n",
       "      <td>2</td>\n",
       "      <td>69.55</td>\n",
       "      <td>S</td>\n",
       "    </tr>\n",
       "    <tr>\n",
       "      <th>201</th>\n",
       "      <td>3</td>\n",
       "      <td>Sage, Mr. Frederick</td>\n",
       "      <td>male</td>\n",
       "      <td>NaN</td>\n",
       "      <td>8</td>\n",
       "      <td>2</td>\n",
       "      <td>69.55</td>\n",
       "      <td>S</td>\n",
       "    </tr>\n",
       "  </tbody>\n",
       "</table>\n",
       "</div>"
      ],
      "text/plain": [
       "     Pclass                               Name     Sex  Age  SibSp  Parch  \\\n",
       "324       3           Sage, Mr. George John Jr    male  NaN      8      2   \n",
       "792       3            Sage, Miss. Stella Anna  female  NaN      8      2   \n",
       "180       3       Sage, Miss. Constance Gladys  female  NaN      8      2   \n",
       "863       3  Sage, Miss. Dorothy Edith \"Dolly\"  female  NaN      8      2   \n",
       "846       3           Sage, Mr. Douglas Bullen    male  NaN      8      2   \n",
       "159       3         Sage, Master. Thomas Henry    male  NaN      8      2   \n",
       "201       3                Sage, Mr. Frederick    male  NaN      8      2   \n",
       "\n",
       "      Fare Embarked  \n",
       "324  69.55        S  \n",
       "792  69.55        S  \n",
       "180  69.55        S  \n",
       "863  69.55        S  \n",
       "846  69.55        S  \n",
       "159  69.55        S  \n",
       "201  69.55        S  "
      ]
     },
     "execution_count": 115,
     "metadata": {},
     "output_type": "execute_result"
    }
   ],
   "source": [
    "X_train[X_train['SibSp']==8]"
   ]
  },
  {
   "cell_type": "markdown",
   "id": "03fa9341",
   "metadata": {},
   "source": [
    "Those 8 siblings are in the same family: Sage"
   ]
  },
  {
   "cell_type": "markdown",
   "id": "65981743",
   "metadata": {},
   "source": [
    "I will replace the None values by the median age according to the number of siblings. And when SibSp is 8 I will replace it by the minimum age (since later I will group the ages) and for higher number of siblings we can see that its in the lower group of ages."
   ]
  },
  {
   "cell_type": "code",
   "execution_count": 116,
   "id": "1403eb55",
   "metadata": {},
   "outputs": [
    {
     "name": "stderr",
     "output_type": "stream",
     "text": [
      "C:\\Users\\L E N O V O\\anaconda3\\lib\\site-packages\\pandas\\core\\generic.py:6392: SettingWithCopyWarning: \n",
      "A value is trying to be set on a copy of a slice from a DataFrame\n",
      "\n",
      "See the caveats in the documentation: https://pandas.pydata.org/pandas-docs/stable/user_guide/indexing.html#returning-a-view-versus-a-copy\n",
      "  return self._update_inplace(result)\n"
     ]
    }
   ],
   "source": [
    "X_train['Age'].fillna(X_train.groupby('SibSp')['Age'].transform('median'), inplace=True)\n",
    "X_train['Age'].fillna(X_train['Age'].min(), inplace=True)\n",
    "\n",
    "X_test['Age'].fillna(X_train.groupby('SibSp')['Age'].transform('median'), inplace=True)\n",
    "X_test['Age'].fillna(X_train['Age'].min(), inplace=True)"
   ]
  },
  {
   "cell_type": "code",
   "execution_count": 117,
   "id": "b3c2eda0",
   "metadata": {},
   "outputs": [
    {
     "data": {
      "text/plain": [
       "Series([], dtype: float64)"
      ]
     },
     "execution_count": 117,
     "metadata": {},
     "output_type": "execute_result"
    }
   ],
   "source": [
    "X_train.isna().sum()[X_train.isna().sum()>0]/X_train.shape[0]"
   ]
  },
  {
   "cell_type": "code",
   "execution_count": 118,
   "id": "94019a0b",
   "metadata": {
    "scrolled": true
   },
   "outputs": [
    {
     "data": {
      "text/plain": [
       "Series([], dtype: float64)"
      ]
     },
     "execution_count": 118,
     "metadata": {},
     "output_type": "execute_result"
    }
   ],
   "source": [
    "X_test.isna().sum()[X_test.isna().sum()>0]/X_test.shape[0]"
   ]
  },
  {
   "cell_type": "markdown",
   "id": "f38d110d",
   "metadata": {},
   "source": [
    "## Preprocessing"
   ]
  },
  {
   "cell_type": "markdown",
   "id": "15348e95",
   "metadata": {},
   "source": [
    "### Feature Engineering"
   ]
  },
  {
   "cell_type": "code",
   "execution_count": 119,
   "id": "73046908",
   "metadata": {},
   "outputs": [
    {
     "data": {
      "text/plain": [
       "Index(['Pclass', 'Name', 'Sex', 'Age', 'SibSp', 'Parch', 'Fare', 'Embarked'], dtype='object')"
      ]
     },
     "execution_count": 119,
     "metadata": {},
     "output_type": "execute_result"
    }
   ],
   "source": [
    "X_train.columns"
   ]
  },
  {
   "cell_type": "code",
   "execution_count": 120,
   "id": "4bdf7732",
   "metadata": {},
   "outputs": [
    {
     "data": {
      "text/plain": [
       "331    (32.252, 48.168]\n",
       "733    (16.336, 32.252]\n",
       "382    (16.336, 32.252]\n",
       "704    (16.336, 32.252]\n",
       "813      (0.34, 16.336]\n",
       "             ...       \n",
       "106    (16.336, 32.252]\n",
       "270    (16.336, 32.252]\n",
       "860    (32.252, 48.168]\n",
       "435      (0.34, 16.336]\n",
       "102    (16.336, 32.252]\n",
       "Name: Age, Length: 712, dtype: category\n",
       "Categories (5, interval[float64, right]): [(0.34, 16.336] < (16.336, 32.252] < (32.252, 48.168] < (48.168, 64.084] < (64.084, 80.0]]"
      ]
     },
     "execution_count": 120,
     "metadata": {},
     "output_type": "execute_result"
    }
   ],
   "source": [
    "pd.cut(X_train['Age'], 5)"
   ]
  },
  {
   "cell_type": "markdown",
   "id": "5ef99ada",
   "metadata": {},
   "source": [
    "Separate the ages into 5 buckets : 0 : 0-16, 1 : 16-32, 2 : 32-48, 3 : 48-64, 4 : 64-80"
   ]
  },
  {
   "cell_type": "code",
   "execution_count": 121,
   "id": "ef844f22",
   "metadata": {},
   "outputs": [],
   "source": [
    "def age_groups (row):\n",
    "    if row['Age'] < 16:\n",
    "        return 0\n",
    "    elif row['Age'] < 32:\n",
    "        return 1\n",
    "    elif row['Age'] < 48:\n",
    "        return 2\n",
    "    elif row['Age'] < 64:\n",
    "        return 3\n",
    "    elif row['Age'] <= 80:\n",
    "        return 4"
   ]
  },
  {
   "cell_type": "code",
   "execution_count": 122,
   "id": "8f05d96f",
   "metadata": {},
   "outputs": [
    {
     "name": "stderr",
     "output_type": "stream",
     "text": [
      "C:\\Users\\LENOVO~1\\AppData\\Local\\Temp/ipykernel_12268/273064858.py:1: SettingWithCopyWarning: \n",
      "A value is trying to be set on a copy of a slice from a DataFrame.\n",
      "Try using .loc[row_indexer,col_indexer] = value instead\n",
      "\n",
      "See the caveats in the documentation: https://pandas.pydata.org/pandas-docs/stable/user_guide/indexing.html#returning-a-view-versus-a-copy\n",
      "  X_train['Age_cut'] = X_train.apply(age_groups,axis=1)\n",
      "C:\\Users\\LENOVO~1\\AppData\\Local\\Temp/ipykernel_12268/273064858.py:2: SettingWithCopyWarning: \n",
      "A value is trying to be set on a copy of a slice from a DataFrame.\n",
      "Try using .loc[row_indexer,col_indexer] = value instead\n",
      "\n",
      "See the caveats in the documentation: https://pandas.pydata.org/pandas-docs/stable/user_guide/indexing.html#returning-a-view-versus-a-copy\n",
      "  X_test['Age_cut'] = X_test.apply(age_groups,axis=1)\n"
     ]
    }
   ],
   "source": [
    "X_train['Age_cut'] = X_train.apply(age_groups,axis=1)\n",
    "X_test['Age_cut'] = X_test.apply(age_groups,axis=1)"
   ]
  },
  {
   "cell_type": "code",
   "execution_count": 123,
   "id": "3afac558",
   "metadata": {},
   "outputs": [
    {
     "name": "stderr",
     "output_type": "stream",
     "text": [
      "C:\\Users\\L E N O V O\\anaconda3\\lib\\site-packages\\seaborn\\_decorators.py:36: FutureWarning: Pass the following variable as a keyword arg: x. From version 0.12, the only valid positional argument will be `data`, and passing other arguments without an explicit keyword will result in an error or misinterpretation.\n",
      "  warnings.warn(\n"
     ]
    },
    {
     "data": {
      "text/plain": [
       "<AxesSubplot:xlabel='Age_cut', ylabel='count'>"
      ]
     },
     "execution_count": 123,
     "metadata": {},
     "output_type": "execute_result"
    },
    {
     "data": {
      "image/png": "[encoded data removed]",
      "text/plain": [
       "<Figure size 432x288 with 1 Axes>"
      ]
     },
     "metadata": {
      "needs_background": "light"
     },
     "output_type": "display_data"
    }
   ],
   "source": [
    "sns.countplot(X_train['Age_cut'])"
   ]
  },
  {
   "cell_type": "code",
   "execution_count": 124,
   "id": "0d08396a",
   "metadata": {},
   "outputs": [
    {
     "name": "stderr",
     "output_type": "stream",
     "text": [
      "C:\\Users\\L E N O V O\\anaconda3\\lib\\site-packages\\pandas\\core\\frame.py:4906: SettingWithCopyWarning: \n",
      "A value is trying to be set on a copy of a slice from a DataFrame\n",
      "\n",
      "See the caveats in the documentation: https://pandas.pydata.org/pandas-docs/stable/user_guide/indexing.html#returning-a-view-versus-a-copy\n",
      "  return super().drop(\n"
     ]
    }
   ],
   "source": [
    "X_train.drop(columns='Age', inplace=True)\n",
    "X_test.drop(columns='Age', inplace=True)"
   ]
  },
  {
   "cell_type": "markdown",
   "id": "ed52a00d",
   "metadata": {},
   "source": [
    "I will keep both columns and try a model with both separately"
   ]
  },
  {
   "cell_type": "markdown",
   "id": "464c6841",
   "metadata": {},
   "source": [
    "Extracting the titles from the names"
   ]
  },
  {
   "cell_type": "code",
   "execution_count": 125,
   "id": "56af62ee",
   "metadata": {},
   "outputs": [],
   "source": [
    "import re"
   ]
  },
  {
   "cell_type": "code",
   "execution_count": 126,
   "id": "ab87981d",
   "metadata": {
    "scrolled": true
   },
   "outputs": [
    {
     "data": {
      "text/plain": [
       "0                              Braund, Mr. Owen Harris\n",
       "1    Cumings, Mrs. John Bradley (Florence Briggs Th...\n",
       "2                               Heikkinen, Miss. Laina\n",
       "3         Futrelle, Mrs. Jacques Heath (Lily May Peel)\n",
       "4                             Allen, Mr. William Henry\n",
       "Name: Name, dtype: object"
      ]
     },
     "execution_count": 126,
     "metadata": {},
     "output_type": "execute_result"
    }
   ],
   "source": [
    "data_train['Name'].head()"
   ]
  },
  {
   "cell_type": "markdown",
   "id": "461d7183",
   "metadata": {},
   "source": [
    "the title is always followed by a point"
   ]
  },
  {
   "cell_type": "code",
   "execution_count": 127,
   "id": "77ffb41d",
   "metadata": {},
   "outputs": [
    {
     "data": {
      "text/plain": [
       "array(['Mr', 'Mrs', 'Miss', 'Master', 'Don', 'Rev', 'Dr', 'Mme', 'Ms',\n",
       "       'Major', 'Lady', 'Sir', 'Mlle', 'Col', 'Capt', 'Countess',\n",
       "       'Jonkheer'], dtype=object)"
      ]
     },
     "execution_count": 127,
     "metadata": {},
     "output_type": "execute_result"
    }
   ],
   "source": [
    "data_train['Name'].apply(lambda name: re.search('([A-Za-z]+)\\.', name).group(1)).unique()"
   ]
  },
  {
   "cell_type": "code",
   "execution_count": 128,
   "id": "b6d6d109",
   "metadata": {},
   "outputs": [
    {
     "name": "stderr",
     "output_type": "stream",
     "text": [
      "C:\\Users\\LENOVO~1\\AppData\\Local\\Temp/ipykernel_12268/2109560402.py:1: SettingWithCopyWarning: \n",
      "A value is trying to be set on a copy of a slice from a DataFrame.\n",
      "Try using .loc[row_indexer,col_indexer] = value instead\n",
      "\n",
      "See the caveats in the documentation: https://pandas.pydata.org/pandas-docs/stable/user_guide/indexing.html#returning-a-view-versus-a-copy\n",
      "  X_train['Title'] = X_train['Name'].apply(lambda name: re.search('([A-Za-z]+)\\.', name).group(1))\n",
      "C:\\Users\\LENOVO~1\\AppData\\Local\\Temp/ipykernel_12268/2109560402.py:2: SettingWithCopyWarning: \n",
      "A value is trying to be set on a copy of a slice from a DataFrame.\n",
      "Try using .loc[row_indexer,col_indexer] = value instead\n",
      "\n",
      "See the caveats in the documentation: https://pandas.pydata.org/pandas-docs/stable/user_guide/indexing.html#returning-a-view-versus-a-copy\n",
      "  X_test['Title'] = X_test['Name'].apply(lambda name: re.search('([A-Za-z]+)\\.', name).group(1))\n"
     ]
    }
   ],
   "source": [
    "X_train['Title'] = X_train['Name'].apply(lambda name: re.search('([A-Za-z]+)\\.', name).group(1))\n",
    "X_test['Title'] = X_test['Name'].apply(lambda name: re.search('([A-Za-z]+)\\.', name).group(1))"
   ]
  },
  {
   "cell_type": "code",
   "execution_count": 132,
   "id": "1d95843e",
   "metadata": {},
   "outputs": [
    {
     "data": {
      "text/plain": [
       "Mr          419\n",
       "Miss        143\n",
       "Mrs          96\n",
       "Master       33\n",
       "Rev           5\n",
       "Dr            5\n",
       "Major         2\n",
       "Col           2\n",
       "Mlle          2\n",
       "Capt          1\n",
       "Mme           1\n",
       "Ms            1\n",
       "Countess      1\n",
       "Lady          1\n",
       "Name: Title, dtype: int64"
      ]
     },
     "execution_count": 132,
     "metadata": {},
     "output_type": "execute_result"
    }
   ],
   "source": [
    "X_train['Title'].value_counts()"
   ]
  },
  {
   "cell_type": "code",
   "execution_count": 131,
   "id": "51b08295",
   "metadata": {},
   "outputs": [
    {
     "data": {
      "text/plain": [
       "Index(['Rev', 'Dr', 'Major', 'Col', 'Mlle', 'Capt', 'Mme', 'Ms', 'Countess',\n",
       "       'Lady'],\n",
       "      dtype='object')"
      ]
     },
     "execution_count": 131,
     "metadata": {},
     "output_type": "execute_result"
    }
   ],
   "source": [
    "X_train['Title'].value_counts()[X_train['Title'].value_counts().values < 9].index"
   ]
  },
  {
   "cell_type": "code",
   "execution_count": 52,
   "id": "c644d876",
   "metadata": {},
   "outputs": [
    {
     "data": {
      "image/png": "[encoded data removed]",
      "text/plain": [
       "<Figure size 432x432 with 1 Axes>"
      ]
     },
     "metadata": {},
     "output_type": "display_data"
    }
   ],
   "source": [
    "plt.figure(figsize=(6,6))\n",
    "plt.pie(X_train['Title'].value_counts()[X_train['Title'].value_counts().values > 8].values.tolist() + [X_train['Title'].value_counts()[X_train['Title'].value_counts().values < 9].values.sum()],\n",
    "        labels=X_train['Title'].value_counts()[X_train['Title'].value_counts().values > 8].index.tolist() + ['others'],\n",
    "        autopct='%1.1f%%',\n",
    "        textprops={'fontsize': 13})\n",
    "plt.legend()\n",
    "plt.title('Distribution of Titles', size=20)\n",
    "plt.show()"
   ]
  },
  {
   "cell_type": "code",
   "execution_count": 53,
   "id": "8e813aa4",
   "metadata": {},
   "outputs": [],
   "source": [
    "# No more need of the columns name\n",
    "X_train.drop(columns='Name',inplace=True)\n",
    "X_test.drop(columns='Name',inplace=True)"
   ]
  },
  {
   "cell_type": "code",
   "execution_count": 54,
   "id": "ad7cc59d",
   "metadata": {},
   "outputs": [
    {
     "data": {
      "text/plain": [
       "Index(['Pclass', 'Sex', 'SibSp', 'Parch', 'Fare', 'Embarked', 'Age_cut',\n",
       "       'Title'],\n",
       "      dtype='object')"
      ]
     },
     "execution_count": 54,
     "metadata": {},
     "output_type": "execute_result"
    }
   ],
   "source": [
    "X_train.columns"
   ]
  },
  {
   "cell_type": "markdown",
   "id": "357da26c",
   "metadata": {},
   "source": [
    "I also saw that there is not so much correlation between the survival rate and the number of family members (same for parents and siblings), only correalation when it's 0. so I create a new feature: 'family' whoch is the sum of Siblings and parents."
   ]
  },
  {
   "cell_type": "code",
   "execution_count": 55,
   "id": "3f18dd1a",
   "metadata": {},
   "outputs": [],
   "source": [
    "def fam_on_board(row):\n",
    "    return row['SibSp'] + row['Parch']"
   ]
  },
  {
   "cell_type": "code",
   "execution_count": 56,
   "id": "71eb3418",
   "metadata": {},
   "outputs": [
    {
     "name": "stderr",
     "output_type": "stream",
     "text": [
      "C:\\Users\\LENOVO~1\\AppData\\Local\\Temp/ipykernel_12268/4223145871.py:1: SettingWithCopyWarning: \n",
      "A value is trying to be set on a copy of a slice from a DataFrame.\n",
      "Try using .loc[row_indexer,col_indexer] = value instead\n",
      "\n",
      "See the caveats in the documentation: https://pandas.pydata.org/pandas-docs/stable/user_guide/indexing.html#returning-a-view-versus-a-copy\n",
      "  X_train['family']=X_train.apply(fam_on_board, axis=1)\n",
      "C:\\Users\\LENOVO~1\\AppData\\Local\\Temp/ipykernel_12268/4223145871.py:2: SettingWithCopyWarning: \n",
      "A value is trying to be set on a copy of a slice from a DataFrame.\n",
      "Try using .loc[row_indexer,col_indexer] = value instead\n",
      "\n",
      "See the caveats in the documentation: https://pandas.pydata.org/pandas-docs/stable/user_guide/indexing.html#returning-a-view-versus-a-copy\n",
      "  X_test['family']=X_test.apply(fam_on_board, axis=1)\n"
     ]
    }
   ],
   "source": [
    "X_train['family']=X_train.apply(fam_on_board, axis=1)\n",
    "X_test['family']=X_test.apply(fam_on_board, axis=1)"
   ]
  },
  {
   "cell_type": "code",
   "execution_count": 57,
   "id": "3bc00b18",
   "metadata": {},
   "outputs": [],
   "source": [
    "X_train.drop(columns=['SibSp','Parch'],inplace=True)\n",
    "X_test.drop(columns=['SibSp','Parch'],inplace=True)"
   ]
  },
  {
   "cell_type": "code",
   "execution_count": 58,
   "id": "57e2f274",
   "metadata": {},
   "outputs": [
    {
     "name": "stdout",
     "output_type": "stream",
     "text": [
      "Survived     0     1\n",
      "family              \n",
      "0         0.69  0.31\n",
      "1         0.48  0.52\n",
      "2         0.44  0.56\n",
      "3         0.27  0.73\n",
      "4         0.82  0.18\n",
      "5         0.82  0.18\n",
      "6         0.70  0.30\n",
      "7         1.00  0.00\n",
      "10        1.00  0.00 \n",
      "\n",
      "\n"
     ]
    }
   ],
   "source": [
    "print(pd.crosstab(X_train['family'],y_train).apply(lambda x: round(x/x.sum(),2), axis=1), '\\n\\n')"
   ]
  },
  {
   "cell_type": "markdown",
   "id": "e4db739e",
   "metadata": {},
   "source": [
    "## Preprocessing"
   ]
  },
  {
   "cell_type": "markdown",
   "id": "2e7836e0",
   "metadata": {},
   "source": [
    "## categorical to numerical"
   ]
  },
  {
   "cell_type": "code",
   "execution_count": 59,
   "id": "2d4c589f",
   "metadata": {},
   "outputs": [
    {
     "data": {
      "text/plain": [
       "Index(['Pclass', 'Sex', 'SibSp', 'Parch', 'Fare', 'Embarked', 'Age_cut',\n",
       "       'Title', 'family'],\n",
       "      dtype='object')"
      ]
     },
     "execution_count": 59,
     "metadata": {},
     "output_type": "execute_result"
    }
   ],
   "source": [
    "X_train.columns"
   ]
  },
  {
   "cell_type": "code",
   "execution_count": 60,
   "id": "bc4e0ec0",
   "metadata": {},
   "outputs": [
    {
     "data": {
      "text/plain": [
       "array(['male', 'female'], dtype=object)"
      ]
     },
     "execution_count": 60,
     "metadata": {},
     "output_type": "execute_result"
    }
   ],
   "source": [
    "X_train['Sex'].unique()"
   ]
  },
  {
   "cell_type": "code",
   "execution_count": 61,
   "id": "57828394",
   "metadata": {
    "scrolled": true
   },
   "outputs": [
    {
     "name": "stderr",
     "output_type": "stream",
     "text": [
      "C:\\Users\\LENOVO~1\\AppData\\Local\\Temp/ipykernel_12268/2487182611.py:1: SettingWithCopyWarning: \n",
      "A value is trying to be set on a copy of a slice from a DataFrame.\n",
      "Try using .loc[row_indexer,col_indexer] = value instead\n",
      "\n",
      "See the caveats in the documentation: https://pandas.pydata.org/pandas-docs/stable/user_guide/indexing.html#returning-a-view-versus-a-copy\n",
      "  X_train['Sex'] = X_train['Sex'].map({'male':0,'female':1})\n",
      "C:\\Users\\LENOVO~1\\AppData\\Local\\Temp/ipykernel_12268/2487182611.py:2: SettingWithCopyWarning: \n",
      "A value is trying to be set on a copy of a slice from a DataFrame.\n",
      "Try using .loc[row_indexer,col_indexer] = value instead\n",
      "\n",
      "See the caveats in the documentation: https://pandas.pydata.org/pandas-docs/stable/user_guide/indexing.html#returning-a-view-versus-a-copy\n",
      "  X_test['Sex'] = X_test['Sex'].map({'male':0,'female':1})\n"
     ]
    }
   ],
   "source": [
    "X_train['Sex'] = X_train['Sex'].map({'male':0,'female':1})\n",
    "X_test['Sex'] = X_test['Sex'].map({'male':0,'female':1})"
   ]
  },
  {
   "cell_type": "code",
   "execution_count": 62,
   "id": "a61a8675",
   "metadata": {
    "scrolled": true
   },
   "outputs": [
    {
     "name": "stdout",
     "output_type": "stream",
     "text": [
      "<class 'pandas.core.frame.DataFrame'>\n",
      "Int64Index: 712 entries, 331 to 102\n",
      "Data columns (total 9 columns):\n",
      " #   Column    Non-Null Count  Dtype  \n",
      "---  ------    --------------  -----  \n",
      " 0   Pclass    712 non-null    int64  \n",
      " 1   Sex       712 non-null    int64  \n",
      " 2   SibSp     712 non-null    int64  \n",
      " 3   Parch     712 non-null    int64  \n",
      " 4   Fare      712 non-null    float64\n",
      " 5   Embarked  712 non-null    object \n",
      " 6   Age_cut   712 non-null    int64  \n",
      " 7   Title     712 non-null    object \n",
      " 8   family    712 non-null    int64  \n",
      "dtypes: float64(1), int64(6), object(2)\n",
      "memory usage: 71.8+ KB\n"
     ]
    }
   ],
   "source": [
    "X_train.info()"
   ]
  },
  {
   "cell_type": "code",
   "execution_count": 63,
   "id": "9718da74",
   "metadata": {},
   "outputs": [],
   "source": [
    "X_train = pd.get_dummies(X_train, columns = ['Title', 'Embarked'])\n",
    "\n",
    "X_test = pd.get_dummies(X_test, columns = ['Title', 'Embarked'])"
   ]
  },
  {
   "cell_type": "code",
   "execution_count": 64,
   "id": "29e3b91d",
   "metadata": {},
   "outputs": [],
   "source": [
    "# Need to make sure I have the same columns in test and train\n",
    "cols_to_add = set(X_train.columns) - set(X_test.columns)\n",
    "cols_to_del = set(X_test.columns) - set(X_train.columns)"
   ]
  },
  {
   "cell_type": "code",
   "execution_count": 65,
   "id": "67057e26",
   "metadata": {},
   "outputs": [
    {
     "data": {
      "text/plain": [
       "{'Title_Capt',\n",
       " 'Title_Col',\n",
       " 'Title_Countess',\n",
       " 'Title_Lady',\n",
       " 'Title_Major',\n",
       " 'Title_Mlle',\n",
       " 'Title_Mme',\n",
       " 'Title_Ms'}"
      ]
     },
     "execution_count": 65,
     "metadata": {},
     "output_type": "execute_result"
    }
   ],
   "source": [
    "cols_to_add"
   ]
  },
  {
   "cell_type": "code",
   "execution_count": 66,
   "id": "24da5383",
   "metadata": {},
   "outputs": [
    {
     "data": {
      "text/plain": [
       "{'Title_Don', 'Title_Jonkheer', 'Title_Sir'}"
      ]
     },
     "execution_count": 66,
     "metadata": {},
     "output_type": "execute_result"
    }
   ],
   "source": [
    "cols_to_del"
   ]
  },
  {
   "cell_type": "code",
   "execution_count": 67,
   "id": "dbb580db",
   "metadata": {},
   "outputs": [],
   "source": [
    "for col in cols_to_add:\n",
    "    X_test[col] = 0\n",
    "\n",
    "X_test.drop(columns=cols_to_del, inplace=True)"
   ]
  },
  {
   "cell_type": "code",
   "execution_count": 68,
   "id": "1602aa5e",
   "metadata": {},
   "outputs": [],
   "source": [
    "assert (X_test.columns == X_train.columns).any()"
   ]
  },
  {
   "cell_type": "raw",
   "id": "d6eab053",
   "metadata": {},
   "source": [
    "I will scale my data but not used my scaled data for every model (example when using decision tree I don't need it)"
   ]
  },
  {
   "cell_type": "code",
   "execution_count": 69,
   "id": "54609d40",
   "metadata": {},
   "outputs": [],
   "source": [
    "from sklearn.preprocessing import StandardScaler"
   ]
  },
  {
   "cell_type": "code",
   "execution_count": 70,
   "id": "6e89dcc0",
   "metadata": {},
   "outputs": [],
   "source": [
    "scaler = StandardScaler()\n",
    "scaler.fit(X_train)\n",
    "X_train_scaled = pd.DataFrame(scaler.transform(X_train), columns=X_train.columns)\n",
    "X_test_scaled = pd.DataFrame(scaler.transform(X_test), columns=X_train.columns)"
   ]
  },
  {
   "cell_type": "markdown",
   "id": "2ede151c",
   "metadata": {},
   "source": [
    "## Modeling"
   ]
  },
  {
   "cell_type": "code",
   "execution_count": 71,
   "id": "38fb3de4",
   "metadata": {},
   "outputs": [],
   "source": [
    "from sklearn.ensemble import RandomForestClassifier"
   ]
  },
  {
   "cell_type": "code",
   "execution_count": 96,
   "id": "b6e53c38",
   "metadata": {},
   "outputs": [],
   "source": [
    "clf = RandomForestClassifier(n_estimators=100)\n",
    "clf.fit(X_train, y_train)\n",
    "y_pred = clf.predict(X_test)"
   ]
  },
  {
   "cell_type": "code",
   "execution_count": 97,
   "id": "1c512167",
   "metadata": {},
   "outputs": [],
   "source": [
    "from sklearn.metrics import classification_report, confusion_matrix"
   ]
  },
  {
   "cell_type": "code",
   "execution_count": 98,
   "id": "245d8a73",
   "metadata": {},
   "outputs": [
    {
     "name": "stdout",
     "output_type": "stream",
     "text": [
      "              precision    recall  f1-score   support\n",
      "\n",
      "           0       0.74      0.86      0.80        91\n",
      "           1       0.82      0.69      0.75        88\n",
      "\n",
      "    accuracy                           0.78       179\n",
      "   macro avg       0.78      0.78      0.77       179\n",
      "weighted avg       0.78      0.78      0.77       179\n",
      "\n"
     ]
    }
   ],
   "source": [
    "print(classification_report(y_pred, y_test))"
   ]
  },
  {
   "cell_type": "markdown",
   "id": "7147f668",
   "metadata": {},
   "source": [
    "I tried different models and Random Forest with scaled data clearly gives me better results"
   ]
  },
  {
   "cell_type": "code",
   "execution_count": null,
   "id": "9db7a0db",
   "metadata": {},
   "outputs": [],
   "source": []
  }
 ],
 "metadata": {
  "kernelspec": {
   "display_name": "Python 3 (ipykernel)",
   "language": "python",
   "name": "python3"
  },
  "language_info": {
   "codemirror_mode": {
    "name": "ipython",
    "version": 3
   },
   "file_extension": ".py",
   "mimetype": "text/x-python",
   "name": "python",
   "nbconvert_exporter": "python",
   "pygments_lexer": "ipython3",
   "version": "3.9.7"
  }
 },
 "nbformat": 4,
 "nbformat_minor": 5
}
