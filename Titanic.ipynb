{
 "cells": [
  {
   "cell_type": "code",
   "execution_count": 1,
   "id": "c7542d3a",
   "metadata": {},
   "outputs": [],
   "source": [
    "import numpy as np\n",
    "import matplotlib as plt\n",
    "import seaborn as sns\n",
    "import pandas as pd"
   ]
  },
  {
   "cell_type": "markdown",
   "id": "4f962bc3",
   "metadata": {},
   "source": [
    "The data comes from : https://hbiostat.org/data/repo/titanic3.xls"
   ]
  },
  {
   "cell_type": "code",
   "execution_count": null,
   "id": "fb07e154",
   "metadata": {},
   "outputs": [],
   "source": [
    "data = pd.read_excel('tit.xlsx', index_col=0)  "
   ]
  }
 ],
 "metadata": {
  "kernelspec": {
   "display_name": "Python 3 (ipykernel)",
   "language": "python",
   "name": "python3"
  },
  "language_info": {
   "codemirror_mode": {
    "name": "ipython",
    "version": 3
   },
   "file_extension": ".py",
   "mimetype": "text/x-python",
   "name": "python",
   "nbconvert_exporter": "python",
   "pygments_lexer": "ipython3",
   "version": "3.9.7"
  }
 },
 "nbformat": 4,
 "nbformat_minor": 5
}
